{
  "cells": [
    {
      "cell_type": "code",
      "execution_count": null,
      "metadata": {
        "id": "Jhzo15Cv0zN6"
      },
      "outputs": [],
      "source": [
        "import pandas as pd"
      ]
    },
    {
      "cell_type": "code",
      "execution_count": null,
      "metadata": {
        "id": "JT6R235W3ZG9"
      },
      "outputs": [],
      "source": [
        "customers = pd.read_csv('/content/AWCustomers_ml_lab_2.csv')"
      ]
    },
    {
      "cell_type": "code",
      "execution_count": null,
      "metadata": {
        "id": "U7_P_OxK3fJq"
      },
      "outputs": [],
      "source": [
        "sales = pd.read_csv('/content/AWSales_ml_lab_2.csv')"
      ]
    },
    {
      "cell_type": "code",
      "execution_count": null,
      "metadata": {
        "colab": {
          "base_uri": "https://localhost:8080/",
          "height": 342
        },
        "id": "zrIQrHP04R8h",
        "outputId": "ba7c96af-16fb-42fc-8686-0c34e00e3fdc"
      },
      "outputs": [],
      "source": [
        "customers.head()"
      ]
    },
    {
      "cell_type": "code",
      "execution_count": null,
      "metadata": {
        "colab": {
          "base_uri": "https://localhost:8080/",
          "height": 206
        },
        "id": "7ZnvF8Dj4UI5",
        "outputId": "22ed2ffb-2760-42e1-9e48-aca41be8c488"
      },
      "outputs": [],
      "source": [
        "sales.head()"
      ]
    },
    {
      "cell_type": "markdown",
      "metadata": {
        "id": "GCFmpOq73Gpf"
      },
      "source": [
        "### **Part I: Based on Feature Selection, Cleaning, and Preprocessing to Construct an Input from Data Source**"
      ]
    },
    {
      "cell_type": "markdown",
      "metadata": {
        "id": "WoxHQ1eM3SyR"
      },
      "source": [
        "(a) Examine the values of each attribute and Select a set of attributes only that would affect to predict\n",
        "future bike buyers to create your input for data mining algorithms. Remove all the unnecessary\n",
        "attributes. (Select features just by analysis)."
      ]
    },
    {
      "cell_type": "code",
      "execution_count": null,
      "metadata": {
        "id": "Y4gpafDM3BxA"
      },
      "outputs": [],
      "source": [
        "customers = customers.drop(['CustomerID','Title','FirstName','MiddleName','LastName','Suffix','AddressLine1','AddressLine2','LastUpdated'], axis=1)"
      ]
    },
    {
      "cell_type": "code",
      "execution_count": null,
      "metadata": {
        "colab": {
          "base_uri": "https://localhost:8080/",
          "height": 313
        },
        "id": "-92FwGNe8wNR",
        "outputId": "04c5ef36-ea6b-47b9-abd5-bf0d788322d4"
      },
      "outputs": [],
      "source": [
        "customers.head()"
      ]
    },
    {
      "cell_type": "markdown",
      "metadata": {
        "id": "hiQS8Xfp8IGk"
      },
      "source": [
        "(b) Create a new Data Frame with the selected attributes only.\n"
      ]
    },
    {
      "cell_type": "code",
      "execution_count": null,
      "metadata": {
        "colab": {
          "base_uri": "https://localhost:8080/"
        },
        "id": "TAhuBMhZxWiP",
        "outputId": "958d50f8-1115-4579-92b2-7c0a4740a616"
      },
      "outputs": [],
      "source": [
        "# List of selected features\n",
        "selected_features = [\n",
        "    'Education', 'Occupation', 'Gender', 'MaritalStatus',\n",
        "    'HomeOwnerFlag', 'NumberCarsOwned', 'NumberChildrenAtHome',\n",
        "    'TotalChildren', 'YearlyIncome', 'City', 'StateProvinceName'\n",
        "]\n",
        "\n",
        "# Creating a new DataFrame with only selected features\n",
        "df_selected = customers[selected_features]\n",
        "\n",
        "# Display the first few rows of the new DataFrame\n",
        "print(df_selected.head())\n"
      ]
    },
    {
      "cell_type": "markdown",
      "metadata": {
        "id": "Ysn2cgOn83kE"
      },
      "source": [
        "(c) Determine a Data value type (Discrete, or Continuous, then Nominal, Ordinal, Interval, Ratio) of\n",
        "each attribute in your selection to identify preprocessing tasks to create input for your data mining."
      ]
    },
    {
      "cell_type": "code",
      "execution_count": null,
      "metadata": {
        "id": "gYdJlGWX8MZs"
      },
      "outputs": [],
      "source": [
        "def determine_data_type(df, feature):\n",
        "    unique_values = df[feature].nunique()\n",
        "    dtype = df[feature].dtype\n",
        "\n",
        "    # Discrete vs Continuous\n",
        "    if dtype == 'object':\n",
        "        value_type = 'Discrete'\n",
        "    elif unique_values < 15:\n",
        "        value_type = 'Discrete'\n",
        "    else:\n",
        "        value_type = 'Continuous'\n",
        "\n",
        "    # Nominal, Ordinal, Interval, Ratio\n",
        "    if feature in ['Gender', 'Occupation', 'MaritalStatus', 'City', 'StateProvinceName']:\n",
        "        value_subtype = 'Nominal'\n",
        "    elif feature == 'Education':\n",
        "        value_subtype = 'Ordinal'\n",
        "    elif feature in ['YearlyIncome']:\n",
        "        value_subtype = 'Ratio'\n",
        "    else:\n",
        "        value_subtype = 'Ratio'  # Defaulting numerical data to Ratio if not specified\n",
        "\n",
        "    return value_type, value_subtype"
      ]
    },
    {
      "cell_type": "code",
      "execution_count": null,
      "metadata": {
        "colab": {
          "base_uri": "https://localhost:8080/"
        },
        "id": "_2gf-FuZ9bjq",
        "outputId": "cbdb51b1-4b03-4ec7-e7dc-80a435c4f161"
      },
      "outputs": [],
      "source": [
        "data_types = []\n",
        "\n",
        "for feature in selected_features:\n",
        "    value_type, value_subtype = determine_data_type(df_selected, feature)\n",
        "    data_types.append({\n",
        "        'Feature': feature,\n",
        "        'Value Type': value_type,\n",
        "        'Subtype': value_subtype\n",
        "    })\n",
        "\n",
        "df_data_types = pd.DataFrame(data_types)\n",
        "\n",
        "print(df_data_types)"
      ]
    },
    {
      "cell_type": "markdown",
      "metadata": {
        "id": "trLtb38B94df"
      },
      "source": [
        "### **Part II: Data Preprocessing and Transformation**"
      ]
    },
    {
      "cell_type": "markdown",
      "metadata": {
        "id": "ljcLBoCl99uG"
      },
      "source": [
        "Depending on the data type of each attribute, transform each object from your preprocessed data.  \n",
        "Use all the data rows (~= 18000 rows) with the selected features as input to apply all the tasks below, do\n",
        "not perform each task on the smaller data set that you got from your random sampling result.  "
      ]
    },
    {
      "cell_type": "code",
      "execution_count": null,
      "metadata": {
        "id": "FWMD9HYM-RUn"
      },
      "outputs": [],
      "source": [
        "import pandas as pd\n",
        "from sklearn.preprocessing import StandardScaler, MinMaxScaler, OneHotEncoder, KBinsDiscretizer\n",
        "from sklearn.impute import SimpleImputer\n",
        "\n",
        "df = df_selected.copy()"
      ]
    },
    {
      "cell_type": "markdown",
      "metadata": {
        "id": "bVXiGql19__D"
      },
      "source": [
        "(a) Handling Null values"
      ]
    },
    {
      "cell_type": "code",
      "execution_count": null,
      "metadata": {
        "id": "I-HN0e5x9lfN"
      },
      "outputs": [],
      "source": [
        "# Filling missing values with the most frequent value for categorical features and mean for numerical features\n",
        "categorical_features = ['Education', 'Occupation', 'Gender', 'MaritalStatus', 'City', 'StateProvinceName']\n",
        "numerical_features = ['HomeOwnerFlag', 'NumberCarsOwned', 'NumberChildrenAtHome', 'TotalChildren', 'YearlyIncome']\n",
        "\n",
        "# Impute missing categorical data with mode\n",
        "categorical_imputer = SimpleImputer(strategy='most_frequent')\n",
        "df[categorical_features] = categorical_imputer.fit_transform(df[categorical_features])\n",
        "\n",
        "# Impute missing numerical data with mean\n",
        "numerical_imputer = SimpleImputer(strategy='mean')\n",
        "df[numerical_features] = numerical_imputer.fit_transform(df[numerical_features])"
      ]
    },
    {
      "cell_type": "code",
      "execution_count": null,
      "metadata": {
        "colab": {
          "base_uri": "https://localhost:8080/",
          "height": 295
        },
        "id": "s38MVLY--qnS",
        "outputId": "024fcc20-674a-4e02-99e0-07cc4fc1668b"
      },
      "outputs": [],
      "source": [
        "df.head()"
      ]
    },
    {
      "cell_type": "markdown",
      "metadata": {
        "id": "cGYLo7-4--Kp"
      },
      "source": [
        "(b) Normalization"
      ]
    },
    {
      "cell_type": "code",
      "execution_count": null,
      "metadata": {
        "id": "X4JKKG5y-8S-"
      },
      "outputs": [],
      "source": [
        "scaler = MinMaxScaler()\n",
        "df[numerical_features] = scaler.fit_transform(df[numerical_features])"
      ]
    },
    {
      "cell_type": "markdown",
      "metadata": {
        "id": "QNSIYtwW_Ffc"
      },
      "source": [
        "(c) Discretization (Binning) on Continuous attributes or Categorical Attributes with too many different\n",
        "values  "
      ]
    },
    {
      "cell_type": "code",
      "execution_count": null,
      "metadata": {
        "colab": {
          "base_uri": "https://localhost:8080/"
        },
        "id": "CRVj0O-j_C2G",
        "outputId": "7bc0a3a3-8ca5-4f7a-b7ed-a2247eed0233"
      },
      "outputs": [],
      "source": [
        "discretizer = KBinsDiscretizer(n_bins=5, encode='ordinal', strategy='uniform')\n",
        "df['YearlyIncome_Binned'] = discretizer.fit_transform(df[['YearlyIncome']])"
      ]
    },
    {
      "cell_type": "code",
      "execution_count": null,
      "metadata": {
        "colab": {
          "base_uri": "https://localhost:8080/"
        },
        "id": "npuog-V8_LZw",
        "outputId": "9484f8dd-e2bc-4d21-ef91-479e916d92bb"
      },
      "outputs": [],
      "source": [
        "city_discretizer = KBinsDiscretizer(n_bins=10, encode='ordinal', strategy='uniform')\n",
        "df['City_Binned'] = city_discretizer.fit_transform(df[['City']].apply(lambda x: pd.factorize(x)[0]))"
      ]
    },
    {
      "cell_type": "markdown",
      "metadata": {
        "id": "HBeClggW_ShS"
      },
      "source": [
        "(d) Standardization/Normalization"
      ]
    },
    {
      "cell_type": "code",
      "execution_count": null,
      "metadata": {
        "id": "ikrtUpiI_Pan"
      },
      "outputs": [],
      "source": [
        "standard_scaler = StandardScaler()\n",
        "df[numerical_features] = standard_scaler.fit_transform(df[numerical_features])"
      ]
    },
    {
      "cell_type": "markdown",
      "metadata": {
        "id": "7MJaBx9n_XcN"
      },
      "source": [
        "(e) Binarization (One Hot Encoding)"
      ]
    },
    {
      "cell_type": "code",
      "execution_count": null,
      "metadata": {
        "id": "fz9i91GD_VOP"
      },
      "outputs": [],
      "source": [
        "df = pd.get_dummies(df, columns=categorical_features)"
      ]
    },
    {
      "cell_type": "code",
      "execution_count": null,
      "metadata": {
        "colab": {
          "base_uri": "https://localhost:8080/",
          "height": 273
        },
        "id": "T-r2yRWE_x4V",
        "outputId": "f8941017-6985-44e3-8d2a-b228aad97e19"
      },
      "outputs": [],
      "source": [
        "df.head()"
      ]
    },
    {
      "cell_type": "code",
      "execution_count": null,
      "metadata": {
        "id": "n8u10oVE_ru0"
      },
      "outputs": [],
      "source": [
        "# df.drop(['YearlyIncome', 'City'], axis=1, inplace=True)"
      ]
    },
    {
      "cell_type": "markdown",
      "metadata": {
        "id": "gMHULlgPFXrp"
      },
      "source": [
        "### **Part III: Calculating Proximity /Correlation Analysis of two features**"
      ]
    },
    {
      "cell_type": "markdown",
      "metadata": {
        "id": "VaA66g2-FcUx"
      },
      "source": [
        "Make sure each attribute is transformed in a same scale for numeric attributes and Binarization for each\n",
        "nominal attribute, and each discretized numeric attribute to standardization. Make sure to apply a correct\n",
        "similarity measure for nominal (one hot encoding)/binary attributes and numeric attributes respectively."
      ]
    },
    {
      "cell_type": "markdown",
      "metadata": {
        "id": "OijwtyNrFeG6"
      },
      "source": [
        "(a) Calculate Similarity in Simple Matching, Jaccard Similarity, and Cosine Similarity between two\n",
        "following objects of your transformed input data."
      ]
    },
    {
      "cell_type": "code",
      "execution_count": null,
      "metadata": {
        "colab": {
          "base_uri": "https://localhost:8080/",
          "height": 406
        },
        "id": "n03dozygFaei",
        "outputId": "faf12f20-3e03-40df-fab3-4b7a26e699fa"
      },
      "outputs": [],
      "source": [
        "import pandas as pd\n",
        "from sklearn.preprocessing import StandardScaler, OneHotEncoder\n",
        "from sklearn.metrics.pairwise import cosine_similarity\n",
        "from scipy.spatial.distance import jaccard\n",
        "\n",
        "# Assume df is the DataFrame with the selected and preprocessed features\n",
        "\n",
        "# Ensure all numeric attributes are standardized\n",
        "numeric_features = ['HomeOwnerFlag', 'NumberCarsOwned', 'NumberChildrenAtHome', 'TotalChildren', 'YearlyIncome']\n",
        "\n",
        "# Apply Standardization\n",
        "scaler = StandardScaler()\n",
        "df[numeric_features] = scaler.fit_transform(df[numeric_features])\n",
        "\n",
        "# Binarize nominal attributes\n",
        "nominal_features = ['Education', 'Occupation', 'Gender', 'MaritalStatus', 'City', 'StateProvinceName']\n",
        "\n",
        "# Apply One-Hot Encoding\n",
        "df = pd.get_dummies(df, columns=nominal_features)\n",
        "\n",
        "# Ensure discretized numeric attributes are standardized\n",
        "if 'YearlyIncome_Binned' in df.columns:\n",
        "    df['YearlyIncome_Binned'] = StandardScaler().fit_transform(df[['YearlyIncome_Binned']])\n",
        "\n",
        "# Select two sample objects (rows) for similarity calculation\n",
        "obj1 = df.iloc[0]\n",
        "obj2 = df.iloc[1]\n"
      ]
    },
    {
      "cell_type": "code",
      "execution_count": null,
      "metadata": {
        "colab": {
          "base_uri": "https://localhost:8080/",
          "height": 219
        },
        "id": "YxDzMZRXGgLx",
        "outputId": "0cac28f5-abe8-4679-ed29-b6c0217c1bab"
      },
      "outputs": [],
      "source": [
        "import numpy as np\n",
        "\n",
        "# Simple Matching Coefficient (SMC)\n",
        "def simple_matching_coefficient(a, b):\n",
        "    matches = np.sum(a == b)\n",
        "    total = len(a)\n",
        "    return matches / total\n",
        "\n",
        "# Jaccard Similarity\n",
        "def jaccard_similarity(a, b):\n",
        "    a_binary = np.array(a != 0, dtype=int)\n",
        "    b_binary = np.array(b != 0, dtype=int)\n",
        "    intersection = np.sum(a_binary & b_binary)\n",
        "    union = np.sum(a_binary | b_binary)\n",
        "    return intersection / union\n",
        "\n",
        "# Cosine Similarity\n",
        "def cosine_sim(a, b):\n",
        "    a = a.values.reshape(1, -1)\n",
        "    b = b.values.reshape(1, -1)\n",
        "    return cosine_similarity(a, b)[0][0]\n",
        "\n",
        "# Compute the similarity measures\n",
        "smc = simple_matching_coefficient(obj1, obj2)\n",
        "jaccard_sim = jaccard_similarity(obj1, obj2)\n",
        "cos_sim = cosine_sim(obj1, obj2)\n",
        "\n",
        "print(f\"Simple Matching Coefficient: {smc}\")\n",
        "print(f\"Jaccard Similarity: {jaccard_sim}\")\n",
        "print(f\"Cosine Similarity: {cos_sim}\")\n"
      ]
    },
    {
      "cell_type": "markdown",
      "metadata": {
        "id": "cuAdI5ZyGnFM"
      },
      "source": [
        "(b) Calculate Correlation between two features Commute Distance and Yearly Income"
      ]
    },
    {
      "cell_type": "code",
      "execution_count": null,
      "metadata": {
        "colab": {
          "base_uri": "https://localhost:8080/",
          "height": 642
        },
        "id": "DfjNVoEcGkm6",
        "outputId": "10e97d6f-7411-4aaa-9990-db04ad28b2b3"
      },
      "outputs": [],
      "source": [
        "# Assuming 'CommuteDistance' and 'YearlyIncome' are in the DataFrame and have been preprocessed\n",
        "\n",
        "# Calculate Correlation\n",
        "correlation = df['CommuteDistance'].corr(df['YearlyIncome'])\n",
        "print(f\"Correlation between Commute Distance and Yearly Income: {correlation}\")\n"
      ]
    }
  ],
  "metadata": {
    "colab": {
      "provenance": []
    },
    "kernelspec": {
      "display_name": "Python 3",
      "name": "python3"
    },
    "language_info": {
      "name": "python"
    }
  },
  "nbformat": 4,
  "nbformat_minor": 0
}
