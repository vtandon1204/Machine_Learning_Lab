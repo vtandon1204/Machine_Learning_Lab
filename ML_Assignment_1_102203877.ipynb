{
  "cells": [
    {
      "cell_type": "code",
      "execution_count": null,
      "metadata": {
        "id": "i2Sqrbb3Yx6b"
      },
      "outputs": [],
      "source": [
        "import numpy as np"
      ]
    },
    {
      "cell_type": "markdown",
      "metadata": {
        "id": "TlBc_YMEYTeq"
      },
      "source": [
        "**Q1: Questions on Basic NumPy Array**\n",
        "\n"
      ]
    },
    {
      "cell_type": "markdown",
      "metadata": {
        "id": "ZGT-ofhWYgqs"
      },
      "source": [
        "(a) Reverse the NumPy array: arr = np.array([1, 2, 3, 6, 4, 5])\n"
      ]
    },
    {
      "cell_type": "code",
      "execution_count": null,
      "metadata": {
        "colab": {
          "base_uri": "https://localhost:8080/"
        },
        "id": "VenvpNEUYJD0",
        "outputId": "18e887a9-c9a8-4226-e1ca-217951e65cbe"
      },
      "outputs": [
        {
          "name": "stdout",
          "output_type": "stream",
          "text": [
            "[5 4 6 3 2 1]\n"
          ]
        }
      ],
      "source": [
        "arr = np.array([1, 2, 3, 6, 4, 5])\n",
        "rev_arr = arr[::-1]\n",
        "print(rev_arr)"
      ]
    },
    {
      "cell_type": "markdown",
      "metadata": {
        "id": "KR3VqR1wY4Y0"
      },
      "source": [
        "(b) Flatten the NumPy arr: array1 = np.array([[1, 2, 3], [2, 4, 5], [1, 2, 3]]) using any two\n",
        "NumPy in-built methods"
      ]
    },
    {
      "cell_type": "code",
      "execution_count": null,
      "metadata": {
        "colab": {
          "base_uri": "https://localhost:8080/"
        },
        "id": "DiRd2AkfYrHY",
        "outputId": "b2d0d076-0e37-4a9a-d153-e60a73288d22"
      },
      "outputs": [
        {
          "name": "stdout",
          "output_type": "stream",
          "text": [
            "[1 2 3 2 4 5 1 2 3]\n"
          ]
        }
      ],
      "source": [
        "arr = np.array([[1, 2, 3], [2, 4, 5], [1, 2, 3]])\n",
        "\n",
        "flattened_arr = arr.flatten()\n",
        "\n",
        "print(flattened_arr)\n"
      ]
    },
    {
      "cell_type": "code",
      "execution_count": null,
      "metadata": {
        "colab": {
          "base_uri": "https://localhost:8080/"
        },
        "id": "mjlpFF1vZVxc",
        "outputId": "8fb03c80-afc1-4a3b-d6d8-4ef1e47b93a0"
      },
      "outputs": [
        {
          "name": "stdout",
          "output_type": "stream",
          "text": [
            "[1 2 3 2 4 5 1 2 3]\n"
          ]
        }
      ],
      "source": [
        "arr = np.array([[1, 2, 3], [2, 4, 5], [1, 2, 3]])\n",
        "\n",
        "flattened_arr = arr.ravel()\n",
        "\n",
        "print(flattened_arr)"
      ]
    },
    {
      "cell_type": "markdown",
      "metadata": {
        "id": "kr-e5STFZeO2"
      },
      "source": [
        "(c) Compare the following numpy arrays:\n",
        "\n",
        "arr1 = np.array([[1, 2], [3, 4]])\n",
        "\n",
        "arr2 = np.array([[1, 2], [3, 4]])"
      ]
    },
    {
      "cell_type": "code",
      "execution_count": null,
      "metadata": {
        "colab": {
          "base_uri": "https://localhost:8080/"
        },
        "id": "MTvqZcyXZCw0",
        "outputId": "b6cef489-80ef-450a-a1e3-a23af6123b15"
      },
      "outputs": [
        {
          "name": "stdout",
          "output_type": "stream",
          "text": [
            "Element-wise comparison:\n",
            "[[ True  True]\n",
            " [False  True]]\n",
            "Arrays are equal: False\n",
            "Arrays are the same object in memory: False\n"
          ]
        }
      ],
      "source": [
        "arr1 = np.array([[1, 2], [3, 4]])\n",
        "arr2 = np.array([[1, 2], [3, 4]])\n",
        "\n",
        "elementwise_comparison = arr1 == arr2\n",
        "print(\"Element-wise comparison:\")\n",
        "print(elementwise_comparison)\n",
        "\n",
        "arrays_equal = np.array_equal(arr1, arr2)\n",
        "print(\"Arrays are equal:\", arrays_equal)\n",
        "\n",
        "arrays_identical = arr1 is arr2\n",
        "print(\"Arrays are the same object in memory:\", arrays_identical)"
      ]
    },
    {
      "cell_type": "markdown",
      "metadata": {
        "id": "6WTW7gLVaH4Y"
      },
      "source": [
        "(d) Find the most frequent value and their indice(s) in the following arrays:\n",
        "\n",
        "i. x = np.array([1,2,3,4,5,1,2,1,1,1])\n",
        "\n",
        "ii. y = np.array([1, 1, 1, 2, 3, 4, 2, 4, 3, 3, ])"
      ]
    },
    {
      "cell_type": "code",
      "execution_count": null,
      "metadata": {
        "colab": {
          "base_uri": "https://localhost:8080/"
        },
        "id": "5-WneWZsZs1S",
        "outputId": "085036fa-502f-4eff-fd3f-59359248d294"
      },
      "outputs": [
        {
          "name": "stdout",
          "output_type": "stream",
          "text": [
            "Most frequent value in x: 1\n",
            "Indices of most frequent value in x: [0 5 7 8 9]\n"
          ]
        }
      ],
      "source": [
        "x = np.array([1, 2, 3, 4, 5, 1, 2, 1, 1, 1])\n",
        "\n",
        "\n",
        "values, counts = np.unique(x, return_counts=True)\n",
        "\n",
        "max_count_index = np.argmax(counts)\n",
        "most_frequent_value = values[max_count_index]\n",
        "most_frequent_count = counts[max_count_index]\n",
        "\n",
        "indices = np.where(x == most_frequent_value)[0]\n",
        "\n",
        "print(\"Most frequent value in x:\", most_frequent_value)\n",
        "print(\"Indices of most frequent value in x:\", indices)\n"
      ]
    },
    {
      "cell_type": "code",
      "execution_count": null,
      "metadata": {
        "colab": {
          "base_uri": "https://localhost:8080/"
        },
        "id": "as9laFbIa2w9",
        "outputId": "02aa7862-ac61-4af7-e2f0-1ab07d905298"
      },
      "outputs": [
        {
          "name": "stdout",
          "output_type": "stream",
          "text": [
            "Most frequent value in y: 1\n",
            "Indices of most frequent value in y: [0 1 2]\n"
          ]
        }
      ],
      "source": [
        "y = np.array([1, 1, 1, 2, 3, 4, 2, 4, 3, 3])\n",
        "\n",
        "values, counts = np.unique(y, return_counts=True)\n",
        "\n",
        "max_count_index = np.argmax(counts)\n",
        "most_frequent_value = values[max_count_index]\n",
        "most_frequent_count = counts[max_count_index]\n",
        "\n",
        "indices = np.where(y == most_frequent_value)[0]\n",
        "\n",
        "print(\"Most frequent value in y:\", most_frequent_value)\n",
        "print(\"Indices of most frequent value in y:\", indices)"
      ]
    },
    {
      "cell_type": "markdown",
      "metadata": {
        "id": "81zY70A7a7R5"
      },
      "source": [
        "(e) For the array gfg = np.matrix('[4, 1, 9; 12, 3, 1; 4, 5, 6]'), find\n",
        "\n",
        "i. Sum of all elements\n",
        "\n",
        "ii. Sum of all elements row-wise  \n",
        "\n",
        "iii. Sum of all elements column-wise"
      ]
    },
    {
      "cell_type": "code",
      "execution_count": null,
      "metadata": {
        "colab": {
          "base_uri": "https://localhost:8080/"
        },
        "id": "Gof2BD6wa0Pm",
        "outputId": "185e7d71-8cc1-4f6f-fd5a-65d5a4058209"
      },
      "outputs": [
        {
          "name": "stdout",
          "output_type": "stream",
          "text": [
            "Sum of all elements: 45\n",
            "Sum of all elements row-wise: [[14]\n",
            " [16]\n",
            " [15]]\n",
            "Sum of all elements column-wise: [[20  9 16]]\n"
          ]
        }
      ],
      "source": [
        "gfg = np.matrix('[4, 1, 9; 12, 3, 1; 4, 5, 6]')\n",
        "\n",
        "total_sum = np.sum(gfg)\n",
        "print(\"Sum of all elements:\", total_sum)\n",
        "\n",
        "row_sum = np.sum(gfg, axis=1)\n",
        "print(\"Sum of all elements row-wise:\", row_sum)\n",
        "\n",
        "col_sum = np.sum(gfg, axis=0)\n",
        "print(\"Sum of all elements column-wise:\", col_sum)\n"
      ]
    },
    {
      "cell_type": "markdown",
      "metadata": {
        "id": "VoyOpKLYbJvI"
      },
      "source": [
        "(f) For the matrix: n_array = np.array([[55, 25, 15],[30, 44, 2],[11, 45, 77]]), find\n",
        "\n",
        "i. Sum of diagonal elements\n",
        "\n",
        "ii. Eigen values of matrix\n",
        "\n",
        "iii. Eigen vectors of matrix\n",
        "\n",
        "iv. Inverse of matrix\n",
        "\n",
        "v. Determinant of matrix"
      ]
    },
    {
      "cell_type": "code",
      "execution_count": null,
      "metadata": {
        "colab": {
          "base_uri": "https://localhost:8080/"
        },
        "id": "5OEi2DevbExd",
        "outputId": "bae7b0d6-0515-4b61-e5be-728ed14db956"
      },
      "outputs": [
        {
          "name": "stdout",
          "output_type": "stream",
          "text": [
            "Sum of diagonal elements: 176\n",
            "Eigenvalues of the matrix: [98.16835147 28.097044   49.73460452]\n",
            "Eigenvectors of the matrix:\n",
            " [[ 0.4574917   0.34637121 -0.15017693]\n",
            " [ 0.28447814 -0.72784061 -0.4852124 ]\n",
            " [ 0.84248058  0.59184038  0.8614034 ]]\n",
            "Inverse of the matrix:\n",
            " [[ 0.02404141 -0.00911212 -0.00444671]\n",
            " [-0.01667882  0.02966905  0.0024785 ]\n",
            " [ 0.00631287 -0.01603732  0.01217379]]\n",
            "Determinant of the matrix: 137180.0000000001\n"
          ]
        }
      ],
      "source": [
        "n_array = np.array([[55, 25, 15], [30, 44, 2], [11, 45, 77]])\n",
        "\n",
        "\n",
        "sum_diagonal = np.trace(n_array)\n",
        "print(\"Sum of diagonal elements:\", sum_diagonal)\n",
        "\n",
        "eigenvalues, _ = np.linalg.eig(n_array)\n",
        "print(\"Eigenvalues of the matrix:\", eigenvalues)\n",
        "\n",
        "_, eigenvectors = np.linalg.eig(n_array)\n",
        "print(\"Eigenvectors of the matrix:\\n\", eigenvectors)\n",
        "\n",
        "inverse_matrix = np.linalg.inv(n_array)\n",
        "print(\"Inverse of the matrix:\\n\", inverse_matrix)\n",
        "\n",
        "determinant = np.linalg.det(n_array)\n",
        "print(\"Determinant of the matrix:\", determinant)\n"
      ]
    },
    {
      "cell_type": "markdown",
      "metadata": {
        "id": "DniEJMRjbUrs"
      },
      "source": [
        "(g) Multiply the following matrices and also find covariance between matrices using NumPy:\n",
        "\n",
        "i. p = [[1, 2], [2, 3]]   \n",
        "  \n",
        "  q = [[4, 5], [6, 7]]\n",
        "\n",
        "ii. p = [[1, 2], [2, 3], [4, 5]]\n",
        "   \n",
        "   q = [[4, 5, 1], [6, 7, 2]]"
      ]
    },
    {
      "cell_type": "code",
      "execution_count": null,
      "metadata": {
        "colab": {
          "base_uri": "https://localhost:8080/"
        },
        "id": "jP7PaJyLbP1i",
        "outputId": "3135add8-f5a9-462c-e98a-9ca88ed591bc"
      },
      "outputs": [
        {
          "name": "stdout",
          "output_type": "stream",
          "text": [
            "Matrix multiplication of p1 and q1:\n",
            " [[16 19]\n",
            " [26 31]]\n",
            "Covariance matrix of flattened p1 and q1:\n",
            " [[0.66666667 1.        ]\n",
            " [1.         1.66666667]]\n",
            "Matrix multiplication of p2 and q2:\n",
            " [[16 19  5]\n",
            " [26 31  8]\n",
            " [46 55 14]]\n",
            "Covariance matrix of flattened p2 and q2:\n",
            " [[2.16666667 0.23333333]\n",
            " [0.23333333 5.36666667]]\n"
          ]
        }
      ],
      "source": [
        "import numpy as np\n",
        "\n",
        "p1 = np.array([[1, 2], [2, 3]])\n",
        "q1 = np.array([[4, 5], [6, 7]])\n",
        "\n",
        "product1 = np.dot(p1, q1)\n",
        "print(\"Matrix multiplication of p1 and q1:\\n\", product1)\n",
        "\n",
        "flattened_p1 = p1.flatten()\n",
        "flattened_q1 = q1.flatten()\n",
        "stacked_matrices1 = np.vstack([flattened_p1, flattened_q1])\n",
        "covariance1 = np.cov(stacked_matrices1)\n",
        "print(\"Covariance matrix of flattened p1 and q1:\\n\", covariance1)\n",
        "\n",
        "p2 = np.array([[1, 2], [2, 3], [4, 5]])\n",
        "q2 = np.array([[4, 5, 1], [6, 7, 2]])\n",
        "\n",
        "product2 = np.dot(p2, q2)\n",
        "print(\"Matrix multiplication of p2 and q2:\\n\", product2)\n",
        "\n",
        "flattened_p2 = p2.flatten()\n",
        "flattened_q2 = q2.flatten()\n",
        "stacked_matrices2 = np.vstack([flattened_p2, flattened_q2])\n",
        "covariance2 = np.cov(stacked_matrices2)\n",
        "print(\"Covariance matrix of flattened p2 and q2:\\n\", covariance2)\n"
      ]
    },
    {
      "cell_type": "markdown",
      "metadata": {
        "id": "-JPe6Q7ybi-E"
      },
      "source": [
        "(h) For the matrices: x = np.array([[2, 3, 4], [3, 2, 9]]); y = np.array([[1, 5, 0], [5, 10, 3]]),\n",
        "find inner, outer and cartesian product?"
      ]
    },
    {
      "cell_type": "code",
      "execution_count": null,
      "metadata": {
        "colab": {
          "base_uri": "https://localhost:8080/"
        },
        "id": "SSRkR3Rvbg2q",
        "outputId": "c56f046f-5f53-44be-a05d-f2bca0e0c0e4"
      },
      "outputs": [
        {
          "name": "stdout",
          "output_type": "stream",
          "text": [
            "Inner product:\n",
            " [[17 52]\n",
            " [13 62]]\n",
            "Outer product:\n",
            " [[ 2 10  0 10 20  6]\n",
            " [ 3 15  0 15 30  9]\n",
            " [ 4 20  0 20 40 12]\n",
            " [ 3 15  0 15 30  9]\n",
            " [ 2 10  0 10 20  6]\n",
            " [ 9 45  0 45 90 27]]\n",
            "Cartesian product:\n",
            " [[[ 2  1]\n",
            "  [ 2  5]\n",
            "  [ 2  0]\n",
            "  [ 2  5]\n",
            "  [ 2 10]\n",
            "  [ 2  3]]\n",
            "\n",
            " [[ 3  1]\n",
            "  [ 3  5]\n",
            "  [ 3  0]\n",
            "  [ 3  5]\n",
            "  [ 3 10]\n",
            "  [ 3  3]]\n",
            "\n",
            " [[ 4  1]\n",
            "  [ 4  5]\n",
            "  [ 4  0]\n",
            "  [ 4  5]\n",
            "  [ 4 10]\n",
            "  [ 4  3]]\n",
            "\n",
            " [[ 3  1]\n",
            "  [ 3  5]\n",
            "  [ 3  0]\n",
            "  [ 3  5]\n",
            "  [ 3 10]\n",
            "  [ 3  3]]\n",
            "\n",
            " [[ 2  1]\n",
            "  [ 2  5]\n",
            "  [ 2  0]\n",
            "  [ 2  5]\n",
            "  [ 2 10]\n",
            "  [ 2  3]]\n",
            "\n",
            " [[ 9  1]\n",
            "  [ 9  5]\n",
            "  [ 9  0]\n",
            "  [ 9  5]\n",
            "  [ 9 10]\n",
            "  [ 9  3]]]\n"
          ]
        }
      ],
      "source": [
        "x = np.array([[2, 3, 4], [3, 2, 9]])\n",
        "y = np.array([[1, 5, 0], [5, 10, 3]])\n",
        "\n",
        "inner_product = np.dot(x, y.T)\n",
        "print(\"Inner product:\\n\", inner_product)\n",
        "\n",
        "x_flat = x.flatten()\n",
        "y_flat = y.flatten()\n",
        "\n",
        "outer_product = np.outer(x_flat, y_flat)\n",
        "print(\"Outer product:\\n\", outer_product)\n",
        "\n",
        "x_grid, y_grid = np.meshgrid(x_flat, y_flat, indexing='ij')\n",
        "cartesian_product = np.stack((x_grid, y_grid), axis=-1)\n",
        "\n",
        "print(\"Cartesian product:\\n\", cartesian_product)\n"
      ]
    },
    {
      "cell_type": "markdown",
      "metadata": {
        "id": "VZRN5BrMsKR6"
      },
      "source": [
        "**Q2: Based on NumPy Mathematics and Statistics**"
      ]
    },
    {
      "cell_type": "markdown",
      "metadata": {
        "id": "Cy3L_mZ7rv01"
      },
      "source": [
        "(a) For the array: array = np.array([[1, -2, 3],[-4, 5, -6]])\n",
        "\n",
        "i. Find element-wise absolute value\n",
        "\n",
        "ii. Find the 25th, 50th, and 75th percentile of flattened array, for each column, for each\n",
        "row.\n",
        "\n",
        "iii. Mean, Median and Standard Deviation of flattened array, of each column, and\n",
        "each row"
      ]
    },
    {
      "cell_type": "code",
      "execution_count": null,
      "metadata": {
        "colab": {
          "base_uri": "https://localhost:8080/"
        },
        "id": "qoE_rqMIbpzN",
        "outputId": "4b835719-ab4d-4e26-8f17-982e50440b14"
      },
      "outputs": [
        {
          "name": "stdout",
          "output_type": "stream",
          "text": [
            "Element-wise Absolute Value:\n",
            " [[1 2 3]\n",
            " [4 5 6]]\n",
            "\n",
            "Percentiles (Flattened Array): {'25th': -3.5, '50th': -0.5, '75th': 2.5}\n",
            "Percentiles (Each Column): {'25th': array([-2.75, -0.25, -3.75]), '50th': array([-1.5,  1.5, -1.5]), '75th': array([-0.25,  3.25,  0.75])}\n",
            "Percentiles (Each Row): {'25th': array([-0.5, -5. ]), '50th': array([ 1., -4.]), '75th': array([2. , 0.5])}\n",
            "\n",
            "Mean (Flattened Array): -0.5\n",
            "Median (Flattened Array): -0.5\n",
            "Standard Deviation (Flattened Array): 3.8622100754188224\n",
            "Mean (Each Column): [-1.5  1.5 -1.5]\n",
            "Median (Each Column): [-1.5  1.5 -1.5]\n",
            "Standard Deviation (Each Column): [2.5 3.5 4.5]\n",
            "Mean (Each Row): [ 0.66666667 -1.66666667]\n",
            "Median (Each Row): [ 1. -4.]\n",
            "Standard Deviation (Each Row): [2.05480467 4.78423336]\n"
          ]
        }
      ],
      "source": [
        "import numpy as np\n",
        "\n",
        "array = np.array([[1, -2, 3], [-4, 5, -6]])\n",
        "\n",
        "abs_array = np.abs(array)\n",
        "\n",
        "flattened_array = array.flatten()\n",
        "\n",
        "percentiles = {\n",
        "    '25th': np.percentile(flattened_array, 25),\n",
        "    '50th': np.percentile(flattened_array, 50),\n",
        "    '75th': np.percentile(flattened_array, 75)\n",
        "}\n",
        "\n",
        "percentiles_columns = {\n",
        "    '25th': np.percentile(array, 25, axis=0),\n",
        "    '50th': np.percentile(array, 50, axis=0),\n",
        "    '75th': np.percentile(array, 75, axis=0)\n",
        "}\n",
        "\n",
        "percentiles_rows = {\n",
        "    '25th': np.percentile(array, 25, axis=1),\n",
        "    '50th': np.percentile(array, 50, axis=1),\n",
        "    '75th': np.percentile(array, 75, axis=1)\n",
        "}\n",
        "\n",
        "mean_flattened = np.mean(flattened_array)\n",
        "median_flattened = np.median(flattened_array)\n",
        "std_flattened = np.std(flattened_array)\n",
        "\n",
        "mean_columns = np.mean(array, axis=0)\n",
        "median_columns = np.median(array, axis=0)\n",
        "std_columns = np.std(array, axis=0)\n",
        "\n",
        "mean_rows = np.mean(array, axis=1)\n",
        "median_rows = np.median(array, axis=1)\n",
        "std_rows = np.std(array, axis=1)\n",
        "\n",
        "print(\"Element-wise Absolute Value:\\n\", abs_array)\n",
        "print(\"\\nPercentiles (Flattened Array):\", percentiles)\n",
        "print(\"Percentiles (Each Column):\", percentiles_columns)\n",
        "print(\"Percentiles (Each Row):\", percentiles_rows)\n",
        "print(\"\\nMean (Flattened Array):\", mean_flattened)\n",
        "print(\"Median (Flattened Array):\", median_flattened)\n",
        "print(\"Standard Deviation (Flattened Array):\", std_flattened)\n",
        "print(\"Mean (Each Column):\", mean_columns)\n",
        "print(\"Median (Each Column):\", median_columns)\n",
        "print(\"Standard Deviation (Each Column):\", std_columns)\n",
        "print(\"Mean (Each Row):\", mean_rows)\n",
        "print(\"Median (Each Row):\", median_rows)\n",
        "print(\"Standard Deviation (Each Row):\", std_rows)\n"
      ]
    },
    {
      "cell_type": "markdown",
      "metadata": {
        "id": "2lWus5Q7r8m4"
      },
      "source": [
        "(b) For the array: a = np.array([-1.8, -1.6, -0.5, 0.5,1.6, 1.8, 3.0]). Find floor, ceiling\n",
        "and truncated value, rounded values"
      ]
    },
    {
      "cell_type": "code",
      "execution_count": null,
      "metadata": {
        "colab": {
          "base_uri": "https://localhost:8080/"
        },
        "id": "rKY6AVVbrugr",
        "outputId": "ff3a4b65-19b5-411e-ef90-86ded9365090"
      },
      "outputs": [
        {
          "name": "stdout",
          "output_type": "stream",
          "text": [
            "Original array: [-1.8 -1.6 -0.5  0.5  1.6  1.8  3. ]\n",
            "Floor values: [-2. -2. -1.  0.  1.  1.  3.]\n",
            "Ceiling values: [-1. -1. -0.  1.  2.  2.  3.]\n",
            "Truncated values: [-1. -1. -0.  0.  1.  1.  3.]\n",
            "Rounded values: [-2. -2. -0.  0.  2.  2.  3.]\n"
          ]
        }
      ],
      "source": [
        "import numpy as np\n",
        "\n",
        "a = np.array([-1.8, -1.6, -0.5, 0.5, 1.6, 1.8, 3.0])\n",
        "\n",
        "floor_values = np.floor(a)\n",
        "\n",
        "ceiling_values = np.ceil(a)\n",
        "\n",
        "truncated_values = np.trunc(a)\n",
        "\n",
        "rounded_values = np.round(a)\n",
        "\n",
        "print(\"Original array:\", a)\n",
        "print(\"Floor values:\", floor_values)\n",
        "print(\"Ceiling values:\", ceiling_values)\n",
        "print(\"Truncated values:\", truncated_values)\n",
        "print(\"Rounded values:\", rounded_values)\n"
      ]
    },
    {
      "cell_type": "markdown",
      "metadata": {
        "id": "2krUmWepsXHH"
      },
      "source": [
        "**Q3: Based on Searching and Sorting**"
      ]
    },
    {
      "cell_type": "markdown",
      "metadata": {
        "id": "6ErP2agPsZDQ"
      },
      "source": [
        "(a) For the array: array = np.array([10, 52, 62, 16, 16, 54, 453]), find\n",
        "\n",
        "i. Sorted array\n",
        "\n",
        "ii. Indices of sorted array\n",
        "\n",
        "iii. 4 smallest elements\n",
        "\n",
        "iv. 5 largest elements"
      ]
    },
    {
      "cell_type": "code",
      "execution_count": null,
      "metadata": {
        "colab": {
          "base_uri": "https://localhost:8080/"
        },
        "id": "H5H3IXvpsC7y",
        "outputId": "e07afc33-1956-4773-8275-e09eaf146988"
      },
      "outputs": [
        {
          "name": "stdout",
          "output_type": "stream",
          "text": [
            "Sorted Array: [ 10  16  16  52  54  62 453]\n",
            "Indices of Sorted Array: [0 3 4 1 5 2 6]\n",
            "4 Smallest Elements: [10 16 16 52]\n",
            "5 Largest Elements: [ 16  52  54  62 453]\n"
          ]
        }
      ],
      "source": [
        "import numpy as np\n",
        "\n",
        "array = np.array([10, 52, 62, 16, 16, 54, 453])\n",
        "\n",
        "sorted_array = np.sort(array)\n",
        "\n",
        "sorted_indices = np.argsort(array)\n",
        "\n",
        "four_smallest_elements = sorted_array[:4]\n",
        "\n",
        "five_largest_elements = sorted_array[-5:]\n",
        "\n",
        "print(\"Sorted Array:\", sorted_array)\n",
        "print(\"Indices of Sorted Array:\", sorted_indices)\n",
        "print(\"4 Smallest Elements:\", four_smallest_elements)\n",
        "print(\"5 Largest Elements:\", five_largest_elements)\n"
      ]
    },
    {
      "cell_type": "markdown",
      "metadata": {
        "id": "-ZCrdOarsrGT"
      },
      "source": [
        "(b) For the array: array = np.array([1.0, 1.2, 2.2, 2.0, 3.0, 2.0]), find\n",
        "\n",
        "i. Integer elements only\n",
        "\n",
        "ii. Float elements only"
      ]
    },
    {
      "cell_type": "code",
      "execution_count": null,
      "metadata": {
        "colab": {
          "base_uri": "https://localhost:8080/"
        },
        "id": "JWnNViyPseN6",
        "outputId": "00e25355-06d3-4932-da78-facacb35d25a"
      },
      "outputs": [
        {
          "name": "stdout",
          "output_type": "stream",
          "text": [
            "Integer Elements Only: [1. 2. 3. 2.]\n",
            "Float Elements Only: [1.2 2.2]\n"
          ]
        }
      ],
      "source": [
        "import numpy as np\n",
        "\n",
        "array = np.array([1.0, 1.2, 2.2, 2.0, 3.0, 2.0])\n",
        "\n",
        "integer_mask = (array == np.floor(array))\n",
        "integer_elements = array[integer_mask]\n",
        "\n",
        "float_mask = (array != np.floor(array))\n",
        "float_elements = array[float_mask]\n",
        "\n",
        "print(\"Integer Elements Only:\", integer_elements)\n",
        "print(\"Float Elements Only:\", float_elements)"
      ]
    },
    {
      "cell_type": "markdown",
      "metadata": {
        "id": "VT3Xrzems7n-"
      },
      "source": [
        "**Q4:**\n",
        "\n",
        "(a) Write a function named img_to_array(path) that reads an image from a specified path and\n",
        "save it as text file on local machine? (Note: use separate cases for RGB and Grey Scale\n",
        "images)"
      ]
    },
    {
      "cell_type": "code",
      "execution_count": 3,
      "metadata": {
        "id": "SLsUermuswE8"
      },
      "outputs": [],
      "source": [
        "import numpy as np\n",
        "from PIL import Image\n",
        "\n",
        "def img_to_array(path):\n",
        "    img = Image.open(path)\n",
        "\n",
        "    img_array = np.array(img)\n",
        "\n",
        "    # text_file_path = path.rsplit('.', 1)[0] + '_array.txt'\n",
        "\n",
        "    if len(img_array.shape) == 2:  # Grayscale\n",
        "        file_name = \"grayscale_image.txt\"\n",
        "        np.savetxt(file_name, img_array, fmt='%d')\n",
        "        print(f\"Grayscale image saved as {file_name}\")\n",
        "    elif len(img_array.shape) == 3 and img_array.shape[2] == 3:  # RGB\n",
        "        file_name = \"rgb_image.txt\"\n",
        "        np.savetxt(file_name, img_array.reshape(-1, 3), fmt='%d')\n",
        "        print(f\"RGB image saved as {file_name}\")\n",
        "    else:\n",
        "        raise ValueError(\"Unsupported image format\")\n",
        "\n",
        "    print(f\"Image data has been saved to {file_name}\")\n"
      ]
    },
    {
      "cell_type": "markdown",
      "metadata": {
        "id": "LdPKM2bmdIge"
      },
      "source": [
        "(b) Load the saved file into jupyter notebook?"
      ]
    },
    {
      "cell_type": "code",
      "execution_count": 4,
      "metadata": {
        "colab": {
          "base_uri": "https://localhost:8080/"
        },
        "id": "wUeL0ehzaT08",
        "outputId": "8ab37489-7bd2-4e22-97a1-ef3e6be71a92"
      },
      "outputs": [
        {
          "name": "stdout",
          "output_type": "stream",
          "text": [
            "RGB image saved as rgb_image.txt\n",
            "Image data has been saved to rgb_image.txt\n"
          ]
        }
      ],
      "source": [
        "img_to_array('/content/wp6991936.jpg')"
      ]
    }
  ],
  "metadata": {
    "colab": {
      "provenance": []
    },
    "kernelspec": {
      "display_name": "Python 3",
      "name": "python3"
    },
    "language_info": {
      "name": "python",
      "version": "3.12.2"
    }
  },
  "nbformat": 4,
  "nbformat_minor": 0
}
